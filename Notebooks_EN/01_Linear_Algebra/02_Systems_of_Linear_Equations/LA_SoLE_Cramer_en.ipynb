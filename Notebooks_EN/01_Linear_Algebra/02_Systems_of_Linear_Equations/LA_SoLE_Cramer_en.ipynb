{
  "cells": [
    {
      "cell_type": "markdown",
      "metadata": {
        "id": "kuD_H88QViQr"
      },
      "source": [
        "# Cramer's Rule - Examples for 2x2, 3x3, and 4x4 Systems\n",
        "\n",
        "Cramer's rule is used only when the number of equations is equal to the number of unknowns. In other words, the coefficient matrix must be a square matrix.\n",
        "\n",
        "**These formulas are used only** when the **determinant** of the coefficient matrix is **non-zero**. Otherwise, the system of equations is either inconsistent or indeterminate.\n",
        "\n",
        "## 2x2 System of Equations\n",
        "\n",
        "Consider a system of two equations with two unknowns:\n",
        "\n",
        "$$\n",
        "\\begin{cases}\n",
        "a_{11}x_1 + a_{12}x_2 = b_1 \\\\\n",
        "a_{21}x_1 + a_{22}x_2 = b_2\n",
        "\\end{cases}\n",
        "$$\n",
        "\n",
        "Cramer's rule for the unknowns $ x_1 $ and $ x_2 $ is as follows:\n",
        "\n",
        "$$\n",
        "x_1 = \\frac{\\det(A_1)}{\\det(A)} \\quad \\text{and} \\quad x_2 = \\frac{\\det(A_2)}{\\det(A)}\n",
        "$$\n",
        "\n",
        "Where:\n",
        "\n",
        "$$\n",
        "\\det(A) =\n",
        "\\begin{vmatrix}\n",
        "a_{11} & a_{12} \\\\\n",
        "a_{21} & a_{22}\n",
        "\\end{vmatrix}\n",
        "= a_{11}a_{22} - a_{12}a_{21}\n",
        "$$\n",
        "\n",
        "$$\n",
        "\\det(A_1) =\n",
        "\\begin{vmatrix}\n",
        "b_1 & a_{12} \\\\\n",
        "b_2 & a_{22}\n",
        "\\end{vmatrix}\n",
        "= b_1a_{22} - a_{12}b_2\n",
        "$$\n",
        "\n",
        "$$\n",
        "\\det(A_2) =\n",
        "\\begin{vmatrix}\n",
        "a_{11} & b_1 \\\\\n",
        "a_{21} & b_2\n",
        "\\end{vmatrix}\n",
        "= a_{11}b_2 - b_1a_{21}\n",
        "$$\n",
        "\n",
        "## 3x3 System of Equations\n",
        "\n",
        "Consider a system of three equations with three unknowns:\n",
        "\n",
        "$$\n",
        "\\begin{cases}\n",
        "a_{11}x_1 + a_{12}x_2 + a_{13}x_3 = b_1 \\\\\n",
        "a_{21}x_1 + a_{22}x_2 + a_{23}x_3 = b_2 \\\\\n",
        "a_{31}x_1 + a_{32}x_2 + a_{33}x_3 = b_3\n",
        "\\end{cases}\n",
        "$$\n",
        "\n",
        "Cramer's rule for $ x_1 $, $ x_2 $, and $ x_3 $:\n",
        "\n",
        "$$\n",
        "x_1 = \\frac{\\det(A_1)}{\\det(A)} \\quad x_2 = \\frac{\\det(A_2)}{\\det(A)} \\quad x_3 = \\frac{\\det(A_3)}{\\det(A)}\n",
        "$$\n",
        "\n",
        "Where:\n",
        "\n",
        "$$\n",
        "\\det(A) =\n",
        "\\begin{vmatrix}\n",
        "a_{11} & a_{12} & a_{13} \\\\\n",
        "a_{21} & a_{22} & a_{23} \\\\\n",
        "a_{31} & a_{32} & a_{33}\n",
        "\\end{vmatrix}\n",
        "$$\n",
        "\n",
        "$$\n",
        "\\det(A_1) =\n",
        "\\begin{vmatrix}\n",
        "b_1 & a_{12} & a_{13} \\\\\n",
        "b_2 & a_{22} & a_{23} \\\\\n",
        "b_3 & a_{32} & a_{33}\n",
        "\\end{vmatrix}\n",
        "$$\n",
        "\n",
        "$$\n",
        "\\det(A_2) =\n",
        "\\begin{vmatrix}\n",
        "a_{11} & b_1 & a_{13} \\\\\n",
        "a_{21} & b_2 & a_{23} \\\\\n",
        "a_{31} & b_3 & a_{33}\n",
        "\\end{vmatrix}\n",
        "$$\n",
        "\n",
        "$$\n",
        "\\det(A_3) =\n",
        "\\begin{vmatrix}\n",
        "a_{11} & a_{12} & b_1 \\\\\n",
        "a_{21} & a_{22} & b_2 \\\\\n",
        "a_{31} & a_{32} & b_3\n",
        "\\end{vmatrix}\n",
        "$$\n",
        "\n",
        "## 4x4 System of Equations\n",
        "\n",
        "Consider a system of four equations with four unknowns:\n",
        "\n",
        "$$\n",
        "\\begin{cases}\n",
        "a_{11}x_1 + a_{12}x_2 + a_{13}x_3 + a_{14}x_4 = b_1 \\\\\n",
        "a_{21}x_1 + a_{22}x_2 + a_{23}x_3 + a_{24}x_4 = b_2 \\\\\n",
        "a_{31}x_1 + a_{32}x_2 + a_{33}x_3 + a_{34}x_4 = b_3 \\\\\n",
        "a_{41}x_1 + a_{42}x_2 + a_{43}x_3 + a_{44}x_4 = b_4\n",
        "\\end{cases}\n",
        "$$\n",
        "\n",
        "Cramer's rule for $ x_1 $, $ x_2 $, $ x_3 $, and $ x_4 $:\n",
        "\n",
        "$$\n",
        "x_1 = \\frac{\\det(A_1)}{\\det(A)} \\quad x_2 = \\frac{\\det(A_2)}{\\det(A)} \\quad x_3 = \\frac{\\det(A_3)}{\\det(A)} \\quad x_4 = \\frac{\\det(A_4)}{\\det(A)}\n",
        "$$\n",
        "\n",
        "Where:\n",
        "\n",
        "$$\n",
        "\\det(A) =\n",
        "\\begin{vmatrix}\n",
        "a_{11} & a_{12} & a_{13} & a_{14} \\\\\n",
        "a_{21} & a_{22} & a_{23} & a_{24} \\\\\n",
        "a_{31} & a_{32} & a_{33} & a_{34} \\\\\n",
        "a_{41} & a_{42} & a_{43} & a_{44}\n",
        "\\end{vmatrix}\n",
        "$$\n",
        "\n",
        "$$\n",
        "\\det(A_1) =\n",
        "\\begin{vmatrix}\n",
        "b_1 & a_{12} & a_{13} & a_{14} \\\\\n",
        "b_2 & a_{22} & a_{23} & a_{24} \\\\\n",
        "b_3 & a_{32} & a_{33} & a_{34} \\\\\n",
        "b_4 & a_{42} & a_{43} & a_{44}\n",
        "\\end{vmatrix}\n",
        "$$\n",
        "\n",
        "$$\n",
        "\\det(A_2) =\n",
        "\\begin{vmatrix}\n",
        "a_{11} & b_1 & a_{13} & a_{14} \\\\\n",
        "a_{21} & b_2 & a_{23} & a_{24} \\\\\n",
        "a_{31} & b_3 & a_{33} & a_{34} \\\\\n",
        "a_{41} & b_4 & a_{43} & a_{44}\n",
        "\\end{vmatrix}\n",
        "$$\n",
        "\n",
        "$$\n",
        "\\det(A_3) =\n",
        "\\begin{vmatrix}\n",
        "a_{11} & a_{12} & b_1 & a_{14} \\\\\n",
        "a_{21} & a_{22} & b_2 & a_{24} \\\\\n",
        "a_{31} & a_{32} & b_3 & a_{34} \\\\\n",
        "a_{41} & a_{42} & b_4 & a_{44}\n",
        "\\end{vmatrix}\n",
        "$$\n",
        "\n",
        "$$\n",
        "\\det(A_4) =\n",
        "\\begin{vmatrix}\n",
        "a_{11} & a_{12} & a_{13} & b_1 \\\\\n",
        "a_{21} & a_{22} & a_{23} & b_2 \\\\\n",
        "a_{31} & a_{32} & a_{33} & b_3 \\\\\n",
        "a_{41} & a_{42} & a_{43} & b_4\n",
        "\\end{vmatrix}\n",
        "$$\n",
        "\n",
        "## Example"
      ]
    },
    {
      "cell_type": "code",
      "execution_count": null,
      "metadata": {
        "id": "iFThY0XWViQt"
      },
      "outputs": [],
      "source": [
        "import sympy as sp\n",
        "\n",
        "# Define symbols\n",
        "x, y, z = sp.symbols('x y z')\n",
        "\n",
        "# Define the system of equations\n",
        "eq1 = sp.Eq(2*x + 3*y + z, 1)\n",
        "eq2 = sp.Eq(3*x + 2*y + 2*z, 2)\n",
        "eq3 = sp.Eq(x + y + z, 3)\n",
        "\n",
        "# Coefficient matrix of the system\n",
        "A = sp.Matrix([[2, 3, 1], [3, 2, 2], [1, 1, 1]])\n",
        "# Free terms vector\n",
        "b = sp.Matrix([1, 2, 3])"
      ]
    },
    {
      "cell_type": "code",
      "execution_count": null,
      "metadata": {
        "id": "4oA_PIg7ViQt",
        "outputId": "391c2a29-b441-4f7f-da2e-9da989990ede"
      },
      "outputs": [
        {
          "data": {
            "text/latex": [
              "$\\displaystyle \\left[\\begin{matrix}2 & 3 & 1\\\\3 & 2 & 2\\\\1 & 1 & 1\\end{matrix}\\right]$"
            ],
            "text/plain": [
              "Matrix([\n",
              "[2, 3, 1],\n",
              "[3, 2, 2],\n",
              "[1, 1, 1]])"
            ]
          },
          "execution_count": 2,
          "metadata": {},
          "output_type": "execute_result"
        }
      ],
      "source": [
        "A"
      ]
    },
    {
      "cell_type": "code",
      "execution_count": null,
      "metadata": {
        "id": "_xBowhw8ViQu",
        "outputId": "3eae51a0-554f-44f6-bcad-950003fdb18b"
      },
      "outputs": [
        {
          "data": {
            "text/latex": [
              "$\\displaystyle \\left[\\begin{matrix}1\\\\2\\\\3\\end{matrix}\\right]$"
            ],
            "text/plain": [
              "Matrix([\n",
              "[1],\n",
              "[2],\n",
              "[3]])"
            ]
          },
          "execution_count": 3,
          "metadata": {},
          "output_type": "execute_result"
        }
      ],
      "source": [
        "b"
      ]
    },
    {
      "cell_type": "code",
      "execution_count": null,
      "metadata": {
        "id": "mGUAhJZSViQu",
        "outputId": "52de045e-9cb9-4b29-a7d4-b20afc5e1646"
      },
      "outputs": [
        {
          "data": {
            "text/latex": [
              "$\\displaystyle \\left[\\begin{matrix}1 & 3 & 1\\\\2 & 2 & 2\\\\3 & 1 & 1\\end{matrix}\\right]$"
            ],
            "text/plain": [
              "Matrix([\n",
              "[1, 3, 1],\n",
              "[2, 2, 2],\n",
              "[3, 1, 1]])"
            ]
          },
          "execution_count": 4,
          "metadata": {},
          "output_type": "execute_result"
        }
      ],
      "source": [
        "# Define matrix A_1\n",
        "A_1 = A.copy() # Copy matrix A\n",
        "A_1[:, 0] = b # Replace the first column of A with vector b\n",
        "A_1 # Check if the replacement was successful"
      ]
    },
    {
      "cell_type": "code",
      "execution_count": null,
      "metadata": {
        "id": "83alwrfBViQu",
        "outputId": "8281d367-e3f2-4675-c207-745b91bbe9ae"
      },
      "outputs": [
        {
          "data": {
            "text/latex": [
              "$\\displaystyle -4$"
            ],
            "text/plain": [
              "-4"
            ]
          },
          "execution_count": 5,
          "metadata": {},
          "output_type": "execute_result"
        }
      ],
      "source": [
        "det_A_1 = A_1.det() # Calculate determinant of A_1\n",
        "sol_x = det_A_1 / A.det() # Calculate x_1\n",
        "sol_x # Calculated value of x_1"
      ]
    },
    {
      "cell_type": "code",
      "execution_count": null,
      "metadata": {
        "id": "eT42fq8mViQu",
        "outputId": "66a2762d-5581-450d-8536-7c090af5155c"
      },
      "outputs": [
        {
          "data": {
            "text/latex": [
              "$\\displaystyle \\left[\\begin{matrix}2 & 1 & 1\\\\3 & 2 & 2\\\\1 & 3 & 1\\end{matrix}\\right]$"
            ],
            "text/plain": [
              "Matrix([\n",
              "[2, 1, 1],\n",
              "[3, 2, 2],\n",
              "[1, 3, 1]])"
            ]
          },
          "execution_count": 6,
          "metadata": {},
          "output_type": "execute_result"
        }
      ],
      "source": [
        "# Similarly for y\n",
        "A_2 = A.copy()\n",
        "A_2[:, 1] = b\n",
        "A_2 # Check if the replacement was successful"
      ]
    },
    {
      "cell_type": "code",
      "execution_count": null,
      "metadata": {
        "id": "WSDQDXD6ViQu",
        "outputId": "0d007d6d-33fb-4e68-ed13-54d8cafa2e81"
      },
      "outputs": [
        {
          "data": {
            "text/latex": [
              "$\\displaystyle 1$"
            ],
            "text/plain": [
              "1"
            ]
          },
          "execution_count": 7,
          "metadata": {},
          "output_type": "execute_result"
        }
      ],
      "source": [
        "det_A_2 = A_2.det()\n",
        "sol_y = det_A_2 / A.det()\n",
        "sol_y"
      ]
    },
    {
      "cell_type": "code",
      "execution_count": null,
      "metadata": {
        "id": "MDXVGbJVViQu",
        "outputId": "58b20ea9-da28-4d76-d9c1-5a878b12384b"
      },
      "outputs": [
        {
          "data": {
            "text/latex": [
              "$\\displaystyle 6$"
            ],
            "text/plain": [
              "6"
            ]
          },
          "execution_count": 8,
          "metadata": {},
          "output_type": "execute_result"
        }
      ],
      "source": [
        "# Finally for z\n",
        "A_3 = A.copy()\n",
        "A_3[:, 2] = b\n",
        "det_A_3 = A_3.det()\n",
        "sol_z = det_A_3 / A.det()\n",
        "sol_z"
      ]
    },
    {
      "cell_type": "code",
      "execution_count": null,
      "metadata": {
        "id": "Qx8Q0G1AViQu",
        "outputId": "1bcf04ea-37f4-4bb9-c662-3d186264785c"
      },
      "outputs": [
        {
          "data": {
            "text/plain": [
              "{x: -4, y: 1, z: 6}"
            ]
          },
          "execution_count": 9,
          "metadata": {},
          "output_type": "execute_result"
        }
      ],
      "source": [
        "# Solve the system of equations\n",
        "sp.solve((eq1, eq2, eq3), (x, y, z))"
      ]
    },
    {
      "cell_type": "markdown",
      "metadata": {
        "id": "tE5mAhDmViQv"
      },
      "source": [
        "---\n",
        "\n",
        "## Exercises for Students\n",
        "\n",
        "1. Solve the system of equations:\n",
        "   $$\n",
        "   \\begin{cases}\n",
        "   2x_1 - 3x_2 = 7 \\\\\n",
        "   3x_1 + 5x_2 = 2\n",
        "   \\end{cases}\n",
        "   $$\n",
        "\n",
        "2. Solve the system of equations:\n",
        "   $$\n",
        "   \\begin{cases}\n",
        "   2x + y - z = 1 \\\\\n",
        "   x - y + 2z = 4 \\\\\n",
        "   3x - 2z = -1\n",
        "   \\end{cases}\n",
        "   $$\n",
        "\n",
        "3. Solve the system of equations:\n",
        "   $$\n",
        "   \\begin{cases}\n",
        "   x + y + z - t = 2 \\\\\n",
        "   x - z + 2t = 6 \\\\\n",
        "   2x - 3y + t = 4 \\\\\n",
        "   3x + y + 3z - 4t = -2\n",
        "   \\end{cases}\n",
        "   $$\n",
        "\n",
        "4. Why can't the following system of equations be solved using Cramer's rule?\n",
        "$$\n",
        "\\begin{cases}\n",
        "x_1 + 2x_2 + 3x_3 = 3 \\\\\n",
        "4x_1 + 5x_2 + 6x_3 = 2 \\\\\n",
        "7x_1 + 8x_2 + 9x_3 = 1\n",
        "\\end{cases}\n",
        "$$"
      ]
    },
    {
      "cell_type": "code",
      "source": [
        "import sympy as sp\n",
        "x1,y1=sp.symbols('x1 y1')\n",
        "eq1=sp.Eq(2*x1-3*y1,7)\n",
        "eq2=sp.Eq(3*x1+5*y1,2)\n",
        "A=sp.Matrix([[2,-3],[3,5]])\n",
        "B=sp.Matrix([7,2])\n",
        "\n"
      ],
      "metadata": {
        "id": "tMFN_b_4WBiX"
      },
      "execution_count": 12,
      "outputs": []
    },
    {
      "cell_type": "code",
      "source": [
        "A"
      ],
      "metadata": {
        "colab": {
          "base_uri": "https://localhost:8080/",
          "height": 58
        },
        "id": "ilXYtxBmbEtJ",
        "outputId": "171b15c5-4c92-4b07-a8bf-63545bb47e0f"
      },
      "execution_count": 14,
      "outputs": [
        {
          "output_type": "execute_result",
          "data": {
            "text/plain": [
              "Matrix([\n",
              "[2, -3],\n",
              "[3,  5]])"
            ],
            "text/latex": "$\\displaystyle \\left[\\begin{matrix}2 & -3\\\\3 & 5\\end{matrix}\\right]$"
          },
          "metadata": {},
          "execution_count": 14
        }
      ]
    },
    {
      "cell_type": "code",
      "source": [
        "B"
      ],
      "metadata": {
        "colab": {
          "base_uri": "https://localhost:8080/",
          "height": 58
        },
        "id": "raHljg4vbch1",
        "outputId": "2bd138b2-41b3-44ea-dc5e-00017f761e1b"
      },
      "execution_count": 9,
      "outputs": [
        {
          "output_type": "execute_result",
          "data": {
            "text/plain": [
              "Matrix([\n",
              "[7],\n",
              "[2]])"
            ],
            "text/latex": "$\\displaystyle \\left[\\begin{matrix}7\\\\2\\end{matrix}\\right]$"
          },
          "metadata": {},
          "execution_count": 9
        }
      ]
    },
    {
      "cell_type": "code",
      "source": [
        "A_1=A.copy()\n",
        "A_1[:,0]=B\n",
        "A_1"
      ],
      "metadata": {
        "colab": {
          "base_uri": "https://localhost:8080/",
          "height": 58
        },
        "id": "tfRAADaXbgrk",
        "outputId": "3a4fad51-85f9-41ff-c56f-f41b10bd195a"
      },
      "execution_count": 15,
      "outputs": [
        {
          "output_type": "execute_result",
          "data": {
            "text/plain": [
              "Matrix([\n",
              "[7, -3],\n",
              "[2,  5]])"
            ],
            "text/latex": "$\\displaystyle \\left[\\begin{matrix}7 & -3\\\\2 & 5\\end{matrix}\\right]$"
          },
          "metadata": {},
          "execution_count": 15
        }
      ]
    },
    {
      "cell_type": "code",
      "source": [
        "det_A_1=A_1.det()\n",
        "sol_x1=det_A_1/A.det()\n",
        "sol_x1"
      ],
      "metadata": {
        "colab": {
          "base_uri": "https://localhost:8080/",
          "height": 37
        },
        "id": "cdBqlhzjdiSc",
        "outputId": "90cd6d71-276a-42a9-d54e-8cd4354732d4"
      },
      "execution_count": 26,
      "outputs": [
        {
          "output_type": "execute_result",
          "data": {
            "text/plain": [
              "1"
            ],
            "text/latex": "$\\displaystyle 1$"
          },
          "metadata": {},
          "execution_count": 26
        }
      ]
    },
    {
      "cell_type": "code",
      "source": [
        "A_2=A.copy()\n",
        "A_2[:,1]=B\n",
        "A_2\n",
        "det_A_2=A_2.det()\n",
        "sol_y=det_A_2/A.det()\n",
        "sol_y"
      ],
      "metadata": {
        "colab": {
          "base_uri": "https://localhost:8080/",
          "height": 51
        },
        "id": "AMKqHJTbfjvA",
        "outputId": "90ef143d-0809-4508-82ac-aa75c0e89564"
      },
      "execution_count": 18,
      "outputs": [
        {
          "output_type": "execute_result",
          "data": {
            "text/plain": [
              "-17/19"
            ],
            "text/latex": "$\\displaystyle - \\frac{17}{19}$"
          },
          "metadata": {},
          "execution_count": 18
        }
      ]
    },
    {
      "cell_type": "code",
      "source": [
        "import sympy as sp\n",
        "x,y,z=sp.symbols('x y z')\n",
        "eq1=sp.Eq(2*x+y-z,1)\n",
        "eq2=sp.Eq(x-y+2*z,4)\n",
        "eq3=sp.Eq(3*x-2*z,-1)\n",
        "\n",
        "A=sp.Matrix([[2,1,-1],[1,-1,2],[3,0,-2]])\n",
        "B=sp.Matrix([1,4,(-1)])\n",
        "B"
      ],
      "metadata": {
        "colab": {
          "base_uri": "https://localhost:8080/",
          "height": 78
        },
        "id": "PJ3lE3AoViHe",
        "outputId": "a96fcdc2-a0e9-4232-870b-08ff3be2e494"
      },
      "execution_count": 39,
      "outputs": [
        {
          "output_type": "execute_result",
          "data": {
            "text/plain": [
              "Matrix([\n",
              "[ 1],\n",
              "[ 4],\n",
              "[-1]])"
            ],
            "text/latex": "$\\displaystyle \\left[\\begin{matrix}1\\\\4\\\\-1\\end{matrix}\\right]$"
          },
          "metadata": {},
          "execution_count": 39
        }
      ]
    },
    {
      "cell_type": "code",
      "source": [
        "A"
      ],
      "metadata": {
        "colab": {
          "base_uri": "https://localhost:8080/",
          "height": 78
        },
        "id": "-I7zkT4SXha1",
        "outputId": "0ffb3862-cbc2-4bff-f436-ef8124aad031"
      },
      "execution_count": 38,
      "outputs": [
        {
          "output_type": "execute_result",
          "data": {
            "text/plain": [
              "Matrix([\n",
              "[2,  1, -1],\n",
              "[1, -1,  2],\n",
              "[3,  0, -2]])"
            ],
            "text/latex": "$\\displaystyle \\left[\\begin{matrix}2 & 1 & -1\\\\1 & -1 & 2\\\\3 & 0 & -2\\end{matrix}\\right]$"
          },
          "metadata": {},
          "execution_count": 38
        }
      ]
    },
    {
      "cell_type": "code",
      "source": [
        "A_1=A.copy()\n",
        "A_1[:,0]=B\n",
        "A_1"
      ],
      "metadata": {
        "colab": {
          "base_uri": "https://localhost:8080/",
          "height": 78
        },
        "id": "Q9OA1ReAhLaN",
        "outputId": "e62bfdaa-2703-4979-a2be-8eb21a8d9e51"
      },
      "execution_count": 41,
      "outputs": [
        {
          "output_type": "execute_result",
          "data": {
            "text/plain": [
              "Matrix([\n",
              "[ 1,  1, -1],\n",
              "[ 4, -1,  2],\n",
              "[-1,  0, -2]])"
            ],
            "text/latex": "$\\displaystyle \\left[\\begin{matrix}1 & 1 & -1\\\\4 & -1 & 2\\\\-1 & 0 & -2\\end{matrix}\\right]$"
          },
          "metadata": {},
          "execution_count": 41
        }
      ]
    },
    {
      "cell_type": "code",
      "source": [
        "A_2=A.copy()\n",
        "A_2[:,1]=B\n",
        "A_2"
      ],
      "metadata": {
        "colab": {
          "base_uri": "https://localhost:8080/",
          "height": 78
        },
        "id": "JY2_fH9UoE35",
        "outputId": "c6911358-1076-4197-a534-59cc0b5d112f"
      },
      "execution_count": 47,
      "outputs": [
        {
          "output_type": "execute_result",
          "data": {
            "text/plain": [
              "Matrix([\n",
              "[2,  1, -1],\n",
              "[1,  4,  2],\n",
              "[3, -1, -2]])"
            ],
            "text/latex": "$\\displaystyle \\left[\\begin{matrix}2 & 1 & -1\\\\1 & 4 & 2\\\\3 & -1 & -2\\end{matrix}\\right]$"
          },
          "metadata": {},
          "execution_count": 47
        }
      ]
    },
    {
      "cell_type": "code",
      "source": [
        "det_A_2=A_2.det()\n",
        "sol_y1=det_A_2/A.det()\n",
        "sol_y1"
      ],
      "metadata": {
        "colab": {
          "base_uri": "https://localhost:8080/",
          "height": 37
        },
        "id": "P6KLfnRdpuqf",
        "outputId": "0509c7d1-6102-46ea-cdf3-ccc212f12b73"
      },
      "execution_count": 54,
      "outputs": [
        {
          "output_type": "execute_result",
          "data": {
            "text/plain": [
              "1"
            ],
            "text/latex": "$\\displaystyle 1$"
          },
          "metadata": {},
          "execution_count": 54
        }
      ]
    },
    {
      "cell_type": "code",
      "source": [
        "A_3=A.copy()\n",
        "A_3[:,2]=B\n",
        "A_3"
      ],
      "metadata": {
        "colab": {
          "base_uri": "https://localhost:8080/",
          "height": 78
        },
        "id": "77xOwmBfqgS7",
        "outputId": "3edfaa83-7bbd-4a96-8487-6f74ebc965ce"
      },
      "execution_count": 49,
      "outputs": [
        {
          "output_type": "execute_result",
          "data": {
            "text/plain": [
              "Matrix([\n",
              "[2,  1,  1],\n",
              "[1, -1,  4],\n",
              "[3,  0, -1]])"
            ],
            "text/latex": "$\\displaystyle \\left[\\begin{matrix}2 & 1 & 1\\\\1 & -1 & 4\\\\3 & 0 & -1\\end{matrix}\\right]$"
          },
          "metadata": {},
          "execution_count": 49
        }
      ]
    },
    {
      "cell_type": "code",
      "source": [
        "det_3=A_3.det()\n",
        "sol_z=det_3/A.det()\n",
        "sol_z"
      ],
      "metadata": {
        "colab": {
          "base_uri": "https://localhost:8080/",
          "height": 37
        },
        "id": "dMb5JzdFq73a",
        "outputId": "cd412593-4a1a-4920-fb35-fa25de2f3b94"
      },
      "execution_count": 55,
      "outputs": [
        {
          "output_type": "execute_result",
          "data": {
            "text/plain": [
              "2"
            ],
            "text/latex": "$\\displaystyle 2$"
          },
          "metadata": {},
          "execution_count": 55
        }
      ]
    },
    {
      "cell_type": "code",
      "source": [
        "sp.solve((eq1,eq2,eq3),(x,y,z))"
      ],
      "metadata": {
        "colab": {
          "base_uri": "https://localhost:8080/"
        },
        "id": "UayLBaUbFBae",
        "outputId": "cb9b52f3-f966-415b-d64d-74ebca686c5a"
      },
      "execution_count": 56,
      "outputs": [
        {
          "output_type": "execute_result",
          "data": {
            "text/plain": [
              "{x: 1, y: 1, z: 2}"
            ]
          },
          "metadata": {},
          "execution_count": 56
        }
      ]
    },
    {
      "cell_type": "code",
      "source": [
        "x,y,z,t=sp.symbols('x y z t')\n",
        "eq1=sp.Eq(x+y+z-t,2)\n",
        "eq2=sp.Eq(x-z+2*t,6)\n",
        "eq3=sp.Eq(2*x-3*y+t,4)\n",
        "eq4=sp.Eq(3*x+y+3*z-4*t,-2)\n",
        "A=sp.Matrix([[1,1,1,-1],[1,-1,2,2],[2,-3,1,1],[3,1,3,-4]])\n",
        "B=sp.Matrix([2,6,4,-2])\n",
        "A"
      ],
      "metadata": {
        "colab": {
          "base_uri": "https://localhost:8080/",
          "height": 98
        },
        "id": "IMxXyWfzFLiZ",
        "outputId": "58aa9ec0-08eb-4e23-909b-b398aec7e3be"
      },
      "execution_count": 57,
      "outputs": [
        {
          "output_type": "execute_result",
          "data": {
            "text/plain": [
              "Matrix([\n",
              "[1,  1, 1, -1],\n",
              "[1, -1, 2,  2],\n",
              "[2, -3, 1,  1],\n",
              "[3,  1, 3, -4]])"
            ],
            "text/latex": "$\\displaystyle \\left[\\begin{matrix}1 & 1 & 1 & -1\\\\1 & -1 & 2 & 2\\\\2 & -3 & 1 & 1\\\\3 & 1 & 3 & -4\\end{matrix}\\right]$"
          },
          "metadata": {},
          "execution_count": 57
        }
      ]
    },
    {
      "cell_type": "code",
      "source": [
        "B"
      ],
      "metadata": {
        "colab": {
          "base_uri": "https://localhost:8080/",
          "height": 98
        },
        "id": "FGRFguNvGKiM",
        "outputId": "654a0e00-30e0-4bb2-99ee-f377d6399162"
      },
      "execution_count": 58,
      "outputs": [
        {
          "output_type": "execute_result",
          "data": {
            "text/plain": [
              "Matrix([\n",
              "[ 2],\n",
              "[ 6],\n",
              "[ 4],\n",
              "[-2]])"
            ],
            "text/latex": "$\\displaystyle \\left[\\begin{matrix}2\\\\6\\\\4\\\\-2\\end{matrix}\\right]$"
          },
          "metadata": {},
          "execution_count": 58
        }
      ]
    },
    {
      "cell_type": "code",
      "source": [
        "A_1=A.copy()\n",
        "A_1[:,0]=B\n",
        "A_1"
      ],
      "metadata": {
        "colab": {
          "base_uri": "https://localhost:8080/",
          "height": 98
        },
        "id": "fmypdODzL6_b",
        "outputId": "95e316d3-420a-4677-e51a-dba2f2471429"
      },
      "execution_count": 59,
      "outputs": [
        {
          "output_type": "execute_result",
          "data": {
            "text/plain": [
              "Matrix([\n",
              "[ 2,  1, 1, -1],\n",
              "[ 6, -1, 2,  2],\n",
              "[ 4, -3, 1,  1],\n",
              "[-2,  1, 3, -4]])"
            ],
            "text/latex": "$\\displaystyle \\left[\\begin{matrix}2 & 1 & 1 & -1\\\\6 & -1 & 2 & 2\\\\4 & -3 & 1 & 1\\\\-2 & 1 & 3 & -4\\end{matrix}\\right]$"
          },
          "metadata": {},
          "execution_count": 59
        }
      ]
    },
    {
      "cell_type": "code",
      "source": [
        "A_2=A.copy()\n",
        "A_2[:,1]=B\n",
        "A_2"
      ],
      "metadata": {
        "colab": {
          "base_uri": "https://localhost:8080/",
          "height": 98
        },
        "id": "87srmIM-NJH4",
        "outputId": "6e2488de-c2da-4fb7-c612-58d76f459136"
      },
      "execution_count": 60,
      "outputs": [
        {
          "output_type": "execute_result",
          "data": {
            "text/plain": [
              "Matrix([\n",
              "[1,  2, 1, -1],\n",
              "[1,  6, 2,  2],\n",
              "[2,  4, 1,  1],\n",
              "[3, -2, 3, -4]])"
            ],
            "text/latex": "$\\displaystyle \\left[\\begin{matrix}1 & 2 & 1 & -1\\\\1 & 6 & 2 & 2\\\\2 & 4 & 1 & 1\\\\3 & -2 & 3 & -4\\end{matrix}\\right]$"
          },
          "metadata": {},
          "execution_count": 60
        }
      ]
    },
    {
      "cell_type": "code",
      "source": [
        "A_3=A.copy()\n",
        "A_3[:,2]=B\n",
        "A_3"
      ],
      "metadata": {
        "colab": {
          "base_uri": "https://localhost:8080/",
          "height": 98
        },
        "id": "hfThH2k9N5NM",
        "outputId": "30194f4d-cdf0-40e0-e92e-67b219f7b523"
      },
      "execution_count": 61,
      "outputs": [
        {
          "output_type": "execute_result",
          "data": {
            "text/plain": [
              "Matrix([\n",
              "[1,  1,  2, -1],\n",
              "[1, -1,  6,  2],\n",
              "[2, -3,  4,  1],\n",
              "[3,  1, -2, -4]])"
            ],
            "text/latex": "$\\displaystyle \\left[\\begin{matrix}1 & 1 & 2 & -1\\\\1 & -1 & 6 & 2\\\\2 & -3 & 4 & 1\\\\3 & 1 & -2 & -4\\end{matrix}\\right]$"
          },
          "metadata": {},
          "execution_count": 61
        }
      ]
    },
    {
      "cell_type": "code",
      "source": [
        "A_4=A.copy()\n",
        "A_4[:,3]=B\n",
        "det_B_4=A_4.det()\n",
        "sol_t=det_B_4/A.det()\n",
        "sol_t"
      ],
      "metadata": {
        "colab": {
          "base_uri": "https://localhost:8080/",
          "height": 51
        },
        "id": "nPYZLoeWN-g3",
        "outputId": "8663213f-8fdf-48c6-df87-a087e919b13a"
      },
      "execution_count": 62,
      "outputs": [
        {
          "output_type": "execute_result",
          "data": {
            "text/plain": [
              "64/19"
            ],
            "text/latex": "$\\displaystyle \\frac{64}{19}$"
          },
          "metadata": {},
          "execution_count": 62
        }
      ]
    },
    {
      "cell_type": "code",
      "source": [
        "sp.solve((eq1,eq2,eq3,eq4),(x,y,z,t))"
      ],
      "metadata": {
        "colab": {
          "base_uri": "https://localhost:8080/"
        },
        "id": "luWZbIKrO58l",
        "outputId": "96aa0022-ea0b-42d6-bf51-e5e30a6552b1"
      },
      "execution_count": 63,
      "outputs": [
        {
          "output_type": "execute_result",
          "data": {
            "text/plain": [
              "{t: 6, x: 1/2, y: 1, z: 13/2}"
            ]
          },
          "metadata": {},
          "execution_count": 63
        }
      ]
    },
    {
      "cell_type": "code",
      "source": [],
      "metadata": {
        "id": "oGe-QATsPcS0"
      },
      "execution_count": null,
      "outputs": []
    }
  ],
  "metadata": {
    "kernelspec": {
      "display_name": "Python 3",
      "language": "python",
      "name": "python3"
    },
    "language_info": {
      "codemirror_mode": {
        "name": "ipython",
        "version": 3
      },
      "file_extension": ".py",
      "mimetype": "text/x-python",
      "name": "python",
      "nbconvert_exporter": "python",
      "pygments_lexer": "ipython3",
      "version": "3.11.9"
    },
    "colab": {
      "provenance": []
    }
  },
  "nbformat": 4,
  "nbformat_minor": 0
}