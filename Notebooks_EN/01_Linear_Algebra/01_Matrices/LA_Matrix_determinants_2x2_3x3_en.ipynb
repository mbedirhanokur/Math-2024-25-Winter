{
  "cells": [
    {
      "cell_type": "markdown",
      "metadata": {
        "id": "cYITk4KMtuDB"
      },
      "source": [
        "# Determinants of 2x2 and 3x3 matrices\n",
        "\n",
        "### Determinant of a 2x2 Matrix\n",
        "\n",
        "The general formula for the determinant of a 2x2 matrix, where the matrix looks as follows:\n",
        "\n",
        "$$\n",
        "\\mathbf{A} =\n",
        "\\begin{pmatrix}\n",
        "a_{11} & a_{12} \\\\\n",
        "a_{21} & a_{22}\n",
        "\\end{pmatrix}\n",
        "$$\n",
        "\n",
        "The determinant of a 2x2 matrix is calculated using the formula:\n",
        "\n",
        "$$\n",
        "\\text{det}(A) = a_{11} \\cdot a_{22} - a_{12} \\cdot a_{21}\n",
        "$$\n",
        "\n",
        "### Determinant of a 3x3 Matrix\n",
        "\n",
        "The general formula for the determinant of a 3x3 matrix, where the matrix looks as follows:\n",
        "\n",
        "$$\n",
        "\\mathbf{B} =\n",
        "\\begin{pmatrix}\n",
        "a_{11} & a_{12} & a_{13} \\\\\n",
        "a_{21} & a_{22} & a_{23} \\\\\n",
        "a_{31} & a_{32} & a_{33}\n",
        "\\end{pmatrix}\n",
        "$$\n",
        "\n",
        "The determinant of a 3x3 matrix can be calculated using Sarrus' rule or Laplace expansion. Here, we will use Sarrus' rule:\n",
        "\n",
        "$$\n",
        "\\text{det}(B) = a_{11} \\cdot a_{22} \\cdot a_{33} + a_{12} \\cdot a_{23} \\cdot a_{31} + a_{13} \\cdot a_{21} \\cdot a_{32}\n",
        "- a_{13} \\cdot a_{22} \\cdot a_{31} - a_{12} \\cdot a_{21} \\cdot a_{33} - a_{11} \\cdot a_{23} \\cdot a_{32}\n",
        "$$\n",
        "\n",
        "<img src=\"https://upload.wikimedia.org/wikipedia/commons/c/c0/Sarrus_rule1.svg\" alt=\"Image description\" width=\"300\" align=\"center\"/>\n",
        "\n",
        "Note: Sarrus' rule does not work for matrices larger than 3x3.\n",
        "\n",
        "### Calculating Determinants in Python using SymPy\n",
        "\n",
        "Now, using the SymPy library, we will calculate the determinants for 2x2 and 3x3 matrices."
      ]
    },
    {
      "cell_type": "code",
      "execution_count": null,
      "metadata": {
        "id": "kkPJeKFEtuDC",
        "outputId": "3586dda7-d5c0-469f-be39-4a5defd6e481"
      },
      "outputs": [
        {
          "data": {
            "text/latex": [
              "$\\displaystyle \\left[\\begin{matrix}2 & 3\\\\1 & 4\\end{matrix}\\right]$"
            ],
            "text/plain": [
              "Matrix([\n",
              "[2, 3],\n",
              "[1, 4]])"
            ]
          },
          "execution_count": 1,
          "metadata": {},
          "output_type": "execute_result"
        }
      ],
      "source": [
        "import sympy as sp\n",
        "\n",
        "# Define the matrix\n",
        "A = sp.Matrix([[2, 3], [1, 4]])\n",
        "A # display the matrix"
      ]
    },
    {
      "cell_type": "code",
      "execution_count": null,
      "metadata": {
        "notebookRunGroups": {
          "groupValue": "2"
        },
        "id": "6jB20FdOtuDD",
        "outputId": "da8943db-a6b3-486d-8378-a6ffa6c4e356"
      },
      "outputs": [
        {
          "data": {
            "text/plain": [
              "True"
            ]
          },
          "execution_count": 2,
          "metadata": {},
          "output_type": "execute_result"
        }
      ],
      "source": [
        "# Verify the correctness of the calculations\n",
        "(2*4 - 3*1) == A.det()"
      ]
    },
    {
      "cell_type": "code",
      "execution_count": null,
      "metadata": {
        "id": "RdUJKNN2tuDD",
        "outputId": "cdf996de-26b8-4348-a89d-edca62f57eef"
      },
      "outputs": [
        {
          "data": {
            "text/latex": [
              "$\\displaystyle \\left[\\begin{matrix}2 & 3 & 1\\\\1 & 4 & 5\\\\3 & 2 & 1\\end{matrix}\\right]$"
            ],
            "text/plain": [
              "Matrix([\n",
              "[2, 3, 1],\n",
              "[1, 4, 5],\n",
              "[3, 2, 1]])"
            ]
          },
          "execution_count": 3,
          "metadata": {},
          "output_type": "execute_result"
        }
      ],
      "source": [
        "# 3x3 Matrix\n",
        "B = sp.Matrix([[2, 3, 1], [1, 4, 5], [3, 2, 1]])\n",
        "B"
      ]
    },
    {
      "cell_type": "code",
      "execution_count": null,
      "metadata": {
        "id": "Kz5SSYICtuDD",
        "outputId": "b302917d-fd1a-49ef-e8d0-13906e57e817"
      },
      "outputs": [
        {
          "data": {
            "text/plain": [
              "True"
            ]
          },
          "execution_count": 4,
          "metadata": {},
          "output_type": "execute_result"
        }
      ],
      "source": [
        "# Verify the correctness of the calculations\n",
        "(2*4*1 + 3*5*3 + 1*1*2 - 1*4*3 - 5*2*2 - 3*1*1) == B.det()"
      ]
    },
    {
      "cell_type": "markdown",
      "metadata": {
        "id": "p3prjeRntuDD"
      },
      "source": [
        "---\n",
        "\n",
        "## Exercises for Students\n",
        "\n",
        "Calculate the determinants for the 2x2 and 3x3 matrices given below.\n",
        "\n",
        "1. 2x2 Matrices:\n",
        "\n",
        "$$\n",
        "\\mathbf{A} =\n",
        "\\begin{pmatrix}\n",
        "2 & 3 \\\\\n",
        "1 & 4\n",
        "\\end{pmatrix}\n",
        ", \\qquad\n",
        "\\mathbf{B} =\n",
        "\\begin{pmatrix}\n",
        "5 & 6 \\\\\n",
        "7 & 8\n",
        "\\end{pmatrix}\n",
        ", \\qquad\n",
        "\\mathbf{C} =\n",
        "\\begin{pmatrix}\n",
        "-1 & 2 \\\\\n",
        "3 & 0\n",
        "\\end{pmatrix}\n",
        "$$\n",
        "\n",
        "2. 3x3 Matrices:\n",
        "\n",
        "\n",
        "$$\n",
        "\\mathbf{D} =\n",
        "\\begin{pmatrix}\n",
        "1 & 0 & 2 \\\\\n",
        "-1 & 3 & 1 \\\\\n",
        "2 & 4 & -2\n",
        "\\end{pmatrix}\n",
        ", \\qquad\n",
        "\\mathbf{E} =\n",
        "\\begin{pmatrix}\n",
        "3 & 1 & -1 \\\\\n",
        "0 & 2 & 4 \\\\\n",
        "5 & 3 & 2\n",
        "\\end{pmatrix}\n",
        ", \\qquad\n",
        "\\mathbf{F} =\n",
        "\\begin{pmatrix}\n",
        "2 & -3 & 1 \\\\\n",
        "1 & 4 & -2 \\\\\n",
        "1 & 5 & 3\n",
        "\\end{pmatrix}\n",
        "$$"
      ]
    },
    {
      "cell_type": "code",
      "source": [
        "import sympy as sp\n",
        "A=sp.Matrix([[2,3],[1,4]])\n",
        "A"
      ],
      "metadata": {
        "id": "zXWIjllctyUJ",
        "outputId": "3abc5346-bba5-4236-e917-a04526a3a31a",
        "colab": {
          "base_uri": "https://localhost:8080/",
          "height": 58
        }
      },
      "execution_count": 1,
      "outputs": [
        {
          "output_type": "execute_result",
          "data": {
            "text/plain": [
              "Matrix([\n",
              "[2, 3],\n",
              "[1, 4]])"
            ],
            "text/latex": "$\\displaystyle \\left[\\begin{matrix}2 & 3\\\\1 & 4\\end{matrix}\\right]$"
          },
          "metadata": {},
          "execution_count": 1
        }
      ]
    },
    {
      "cell_type": "code",
      "source": [
        "B=sp.Matrix([[5,6],[7,8]])\n",
        "B"
      ],
      "metadata": {
        "id": "1q6bZSgLuaMA",
        "outputId": "70cdf376-1ea8-41d0-97ee-f31a27e3f676",
        "colab": {
          "base_uri": "https://localhost:8080/",
          "height": 58
        }
      },
      "execution_count": 2,
      "outputs": [
        {
          "output_type": "execute_result",
          "data": {
            "text/plain": [
              "Matrix([\n",
              "[5, 6],\n",
              "[7, 8]])"
            ],
            "text/latex": "$\\displaystyle \\left[\\begin{matrix}5 & 6\\\\7 & 8\\end{matrix}\\right]$"
          },
          "metadata": {},
          "execution_count": 2
        }
      ]
    },
    {
      "cell_type": "code",
      "source": [
        "C=sp.Matrix([[-1,2],[3,0]])\n",
        "C"
      ],
      "metadata": {
        "id": "qtx70iKmu1Xs",
        "outputId": "84bc230f-b69b-4ddd-9291-f909d8b974e1",
        "colab": {
          "base_uri": "https://localhost:8080/",
          "height": 58
        }
      },
      "execution_count": 3,
      "outputs": [
        {
          "output_type": "execute_result",
          "data": {
            "text/plain": [
              "Matrix([\n",
              "[-1, 2],\n",
              "[ 3, 0]])"
            ],
            "text/latex": "$\\displaystyle \\left[\\begin{matrix}-1 & 2\\\\3 & 0\\end{matrix}\\right]$"
          },
          "metadata": {},
          "execution_count": 3
        }
      ]
    },
    {
      "cell_type": "code",
      "source": [
        "D=sp.Matrix([[1,0,2],[-1,3,1],[2,4,-2]])\n",
        "D"
      ],
      "metadata": {
        "id": "4lvWxCUTu42x",
        "outputId": "474945c4-92b4-4ca6-bcee-d18eac872f6e",
        "colab": {
          "base_uri": "https://localhost:8080/",
          "height": 78
        }
      },
      "execution_count": 4,
      "outputs": [
        {
          "output_type": "execute_result",
          "data": {
            "text/plain": [
              "Matrix([\n",
              "[ 1, 0,  2],\n",
              "[-1, 3,  1],\n",
              "[ 2, 4, -2]])"
            ],
            "text/latex": "$\\displaystyle \\left[\\begin{matrix}1 & 0 & 2\\\\-1 & 3 & 1\\\\2 & 4 & -2\\end{matrix}\\right]$"
          },
          "metadata": {},
          "execution_count": 4
        }
      ]
    },
    {
      "cell_type": "code",
      "source": [
        "E=sp.Matrix([[3,1,-1],[0,2,4],[5,3,2]])\n",
        "E"
      ],
      "metadata": {
        "id": "KzLylHjWvHsj",
        "outputId": "a9aa4096-4729-4ea5-a9c5-e31229eea3b4",
        "colab": {
          "base_uri": "https://localhost:8080/",
          "height": 78
        }
      },
      "execution_count": 5,
      "outputs": [
        {
          "output_type": "execute_result",
          "data": {
            "text/plain": [
              "Matrix([\n",
              "[3, 1, -1],\n",
              "[0, 2,  4],\n",
              "[5, 3,  2]])"
            ],
            "text/latex": "$\\displaystyle \\left[\\begin{matrix}3 & 1 & -1\\\\0 & 2 & 4\\\\5 & 3 & 2\\end{matrix}\\right]$"
          },
          "metadata": {},
          "execution_count": 5
        }
      ]
    },
    {
      "cell_type": "code",
      "source": [
        "F=sp.Matrix([[2,-3,1],[1,4,-2],[1,5,3]])\n",
        "F"
      ],
      "metadata": {
        "id": "QJe1_gDfvMiB",
        "outputId": "4caf07a7-fec3-44ad-ec2f-dc12b5aa0ad9",
        "colab": {
          "base_uri": "https://localhost:8080/",
          "height": 78
        }
      },
      "execution_count": 6,
      "outputs": [
        {
          "output_type": "execute_result",
          "data": {
            "text/plain": [
              "Matrix([\n",
              "[2, -3,  1],\n",
              "[1,  4, -2],\n",
              "[1,  5,  3]])"
            ],
            "text/latex": "$\\displaystyle \\left[\\begin{matrix}2 & -3 & 1\\\\1 & 4 & -2\\\\1 & 5 & 3\\end{matrix}\\right]$"
          },
          "metadata": {},
          "execution_count": 6
        }
      ]
    }
  ],
  "metadata": {
    "kernelspec": {
      "display_name": "Python 3",
      "language": "python",
      "name": "python3"
    },
    "language_info": {
      "codemirror_mode": {
        "name": "ipython",
        "version": 3
      },
      "file_extension": ".py",
      "mimetype": "text/x-python",
      "name": "python",
      "nbconvert_exporter": "python",
      "pygments_lexer": "ipython3",
      "version": "3.11.9"
    },
    "colab": {
      "provenance": []
    }
  },
  "nbformat": 4,
  "nbformat_minor": 0
}